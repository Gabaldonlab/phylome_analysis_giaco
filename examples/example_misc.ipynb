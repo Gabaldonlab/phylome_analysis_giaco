{
 "cells": [
  {
   "cell_type": "code",
   "execution_count": 1,
   "id": "30286483",
   "metadata": {},
   "outputs": [
    {
     "data": {
      "text/plain": [
       "'/home/giacomo/master-thesis/phylome_analysis_giaco'"
      ]
     },
     "execution_count": 1,
     "metadata": {},
     "output_type": "execute_result"
    }
   ],
   "source": [
    "import os\n",
    "os.chdir(\"..\")"
   ]
  },
  {
   "cell_type": "code",
   "execution_count": 9,
   "id": "589c4332",
   "metadata": {},
   "outputs": [],
   "source": [
    "import analyse_phylome as ap\n",
    "from ete3 import Tree"
   ]
  },
  {
   "cell_type": "markdown",
   "id": "21804180",
   "metadata": {},
   "source": []
  },
  {
   "cell_type": "code",
   "execution_count": 13,
   "id": "6aa7b6b9",
   "metadata": {},
   "outputs": [],
   "source": [
    "sptree_file = \"data/rooted_phylome_15_sp_duptree.txt\"\n",
    "sptree = Tree(sptree_file)\n",
    "seed = \"341454\"\n",
    "spe2age_15 = ap.build_sp2age(sptree, seed)"
   ]
  },
  {
   "cell_type": "markdown",
   "id": "55b6b09b",
   "metadata": {},
   "source": []
  },
  {
   "cell_type": "code",
   "execution_count": 14,
   "id": "dca0f937",
   "metadata": {},
   "outputs": [
    {
     "data": {
      "text/plain": [
       "['2/20', 0.1, 2, 20]"
      ]
     },
     "execution_count": 14,
     "metadata": {},
     "output_type": "execute_result"
    }
   ],
   "source": [
    "ap.analyze_rooting(spe2age_15)"
   ]
  },
  {
   "cell_type": "markdown",
   "id": "b4509204",
   "metadata": {},
   "source": [
    "if 33 is empty"
   ]
  },
  {
   "cell_type": "code",
   "execution_count": 17,
   "id": "4b85b5aa",
   "metadata": {},
   "outputs": [
    {
     "data": {
      "text/plain": [
       "{'phylome_0013': {'all_protein_names.txt.gz': 3710915,\n",
       "  'all_algs.tar.gz': 4077979,\n",
       "  'orthologs.txt.gz': 51707,\n",
       "  'all_gene_names.txt.gz': 2559674,\n",
       "  'all_trees.tar.gz': 825220,\n",
       "  'best_trees.txt.gz': 122345,\n",
       "  'phylome_info.txt.gz': 1631,\n",
       "  'all_id_conversion.txt.gz': 6494175},\n",
       " 'phylome_0029': {'all_protein_names.txt.gz': 4795938,\n",
       "  'all_algs.tar.gz': 33,\n",
       "  'orthologs.txt.gz': 8817137,\n",
       "  'all_gene_names.txt.gz': 4537545,\n",
       "  'all_trees.tar.gz': 55350940,\n",
       "  'best_trees.txt.gz': 52482887,\n",
       "  'phylome_info.txt.gz': 976,\n",
       "  'all_id_conversion.txt.gz': 3624710}}"
      ]
     },
     "execution_count": 17,
     "metadata": {},
     "output_type": "execute_result"
    }
   ],
   "source": [
    "ap.get_ftp_stats(phylome_ids=[\"13\", \"29\"])"
   ]
  },
  {
   "cell_type": "markdown",
   "id": "9bdfb638",
   "metadata": {},
   "source": []
  },
  {
   "cell_type": "code",
   "execution_count": 7,
   "id": "65df392a",
   "metadata": {},
   "outputs": [
    {
     "name": "stdout",
     "output_type": "stream",
     "text": [
      "file: all_algs.tar.gz found, will be written in test_data/phylome_13/all_algs.tar.gz\n",
      "file: best_trees.txt.gz found, will be written in test_data/phylome_13/best_trees.txt.gz\n",
      "file: phylome_info.txt.gz found, will be written in test_data/phylome_13/phylome_info.txt.gz\n"
     ]
    }
   ],
   "source": [
    "ap.get_ftp_files(13, outdir=\"test_data/phylome_13\")\n"
   ]
  },
  {
   "cell_type": "markdown",
   "id": "aed7fd9b",
   "metadata": {},
   "source": []
  }
 ],
 "metadata": {
  "kernelspec": {
   "display_name": "Python 3",
   "language": "python",
   "name": "python3"
  },
  "language_info": {
   "codemirror_mode": {
    "name": "ipython",
    "version": 3
   },
   "file_extension": ".py",
   "mimetype": "text/x-python",
   "name": "python",
   "nbconvert_exporter": "python",
   "pygments_lexer": "ipython3",
   "version": "3.8.10"
  }
 },
 "nbformat": 4,
 "nbformat_minor": 5
}
