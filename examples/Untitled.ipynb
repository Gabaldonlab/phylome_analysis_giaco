{
 "cells": [
  {
   "cell_type": "code",
   "execution_count": null,
   "id": "024f10c7",
   "metadata": {},
   "outputs": [],
   "source": [
    "import analyse_phylome as ap\n"
   ]
  },
  {
   "cell_type": "code",
   "execution_count": null,
   "id": "351ea94a",
   "metadata": {},
   "outputs": [],
   "source": [
    "ap."
   ]
  }
 ],
 "metadata": {
  "kernelspec": {
   "display_name": "Python 3",
   "language": "python",
   "name": "python3"
  },
  "language_info": {
   "codemirror_mode": {
    "name": "ipython",
    "version": 3
   },
   "file_extension": ".py",
   "mimetype": "text/x-python",
   "name": "python",
   "nbconvert_exporter": "python",
   "pygments_lexer": "ipython3",
   "version": "3.8.10"
  }
 },
 "nbformat": 4,
 "nbformat_minor": 5
}
