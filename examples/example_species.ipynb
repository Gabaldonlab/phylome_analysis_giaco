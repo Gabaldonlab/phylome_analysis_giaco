{
 "cells": [
  {
   "cell_type": "markdown",
   "metadata": {
    "nteract": {
     "transient": {
      "deleting": false
     }
    }
   },
   "source": [
    "# Species Tree reconstruction\n",
    "\n",
    "In this example we will try to obtain 4 different species tree for phylome 15.\n",
    "\n",
    "1. Duptree\n",
    "2. Concatenation\n",
    "3. Astral-PRO\n",
    "4. SpeciesRax"
   ]
  },
  {
   "cell_type": "markdown",
   "metadata": {},
   "source": [
    "First of all to import the functions do:"
   ]
  },
  {
   "cell_type": "code",
   "execution_count": null,
   "metadata": {
    "jupyter": {
     "outputs_hidden": false,
     "source_hidden": false
    },
    "nteract": {
     "transient": {
      "deleting": false
     }
    }
   },
   "outputs": [],
   "source": [
    "import analyse_phylome as ap"
   ]
  },
  {
   "cell_type": "code",
   "execution_count": null,
   "metadata": {
    "jupyter": {
     "outputs_hidden": false,
     "source_hidden": false
    },
    "nteract": {
     "transient": {
      "deleting": false
     }
    }
   },
   "outputs": [],
   "source": [
    "# set useful variable\n",
    "duptreePath = (\"/home/giacomo/master-thesis/Second_proj/obtain_phylome_data_scripts/duptree2\")\n",
    "\n",
    "outDir = \"out_dir15\"\n",
    "treeFile = \"test_data/best_trees15.txt\"\n",
    "duptreeFile = outDir + \"/duptree_in.txt\"\n",
    "tagName = \"\"\n",
    "\n",
    "ap.create_folder(outDir)"
   ]
  },
  {
   "cell_type": "markdown",
   "metadata": {},
   "source": [
    "##### Duptree\n",
    "\n",
    "Duptree is a super tree based method that has the advantage that it uses trees with duplications to infer the species tree that minimizes the number of inferred duplications according to reconciliation. It is one of the few programs you’ll find that returns a rooted tree. It will simpy need the best_trees file from PhylomeDB. \n",
    "\n",
    "obtain_duptree_file creates the input file for duptree. The gene-trees are simpy renamed with their species and you cand decide whether or not rooting them (midpoint=True)"
   ]
  },
  {
   "cell_type": "code",
   "execution_count": null,
   "metadata": {
    "jupyter": {
     "outputs_hidden": false,
     "source_hidden": false
    },
    "nteract": {
     "transient": {
      "deleting": false
     }
    }
   },
   "outputs": [],
   "source": [
    "help(ap.obtain_duptree_file)\n",
    "\n",
    "ap.obtain_duptree_file(treeFile, duptreeFile) #midpoint=True\n",
    "\n",
    "help(ap.launch_duptree)\n",
    "\n",
    "ap.launch_duptree(duptreeFile, \"out_dir15/sp_duptree.nwk\", duptreePath, outDir, tagName)\n"
   ]
  },
  {
   "cell_type": "markdown",
   "metadata": {},
   "source": [
    "##### Concatenation tree\n",
    "\n",
    "To do this, follow the tutorial in examples/example_cat.py and obtain the concat aln. Then, apply the phylomizer pipeline to this alignment. The alignment may be very long so it could be very computationally demanding.\n",
    "\n",
    "The reconstruction pipeline is stored somewhere in /gpfs/projects/bsc40. -s t means that only the tree building step will be done.\n",
    "\n",
    "`python reconstruction_pipeline.py -s t -i concat_aln -o out_tree`\n"
   ]
  },
  {
   "cell_type": "markdown",
   "metadata": {},
   "source": [
    "#### Astral-PRO\n",
    "\n",
    "\"ASTRAL-Pro stands for ASTRAL for PaRalogs and Orthologs. ASTRAL is a tool for estimating an unrooted species tree given a set of unrooted gene trees and is statistically consistent under the multi-species coalescent model (and thus is useful for handling incomplete lineage sorting, i.e., ILS). ASTRAL-pro extends ASTRAL to allow multi-copy genes. ASTRAL-pro finds the species tree that has the maximum number of shared induced quartet tree equivalent classes with the set of gene trees, subject to the constraint that the set of bipartitions in the species tree comes from a predefined set of bipartitions.\" (see [here](https://github.com/chaoszhang/A-pro))\n",
    "\n",
    "Though I suggest to use the C++ version of the tool which can be found [here](https://github.com/chaoszhang/ASTER/tree/548fd31493397ec44f5c8e3452c689e547b3e271) which is faster and can handle much larger jobs.\n",
    "\n",
    "The function simply rename the trees with the species name as gene name."
   ]
  },
  {
   "cell_type": "code",
   "execution_count": null,
   "metadata": {},
   "outputs": [],
   "source": [
    "# simply rename the trees\n",
    "ap.get_astral_pro_data(treeFile, \"out_dir15/15_astral_trees.txt\")"
   ]
  },
  {
   "cell_type": "markdown",
   "metadata": {},
   "source": [
    "Once obtained the input trees to run astral-pro do:\n",
    "\n",
    "`./astral_c/ASTER/astral-pro -o output_tree -u 1 -t threads best_trees_renamed.txt 2>&1 | tee apro.log`\n",
    "\n",
    "Where -u stand for the level of verbosity. I suggest to redirect stdout to a logfile."
   ]
  },
  {
   "cell_type": "markdown",
   "metadata": {},
   "source": [
    "#### SpeciesRax\n",
    "\n",
    "\"SpeciesRax is part of the GeneRax tool and is available since GeneRax v2.0.0. SpeciesRax infers a rooted species tree from a set of unrooted gene trees.\" (see more [here](https://github.com/BenoitMorel/GeneRax)).\n",
    "\n",
    "In order to run SpeciesRax need a family file where the tree file, the substition model and the mapping file between gene and species are explicited.\n",
    "\n",
    "This function creates all of them. Note that to run SpeciesRax you don't need the alignment file."
   ]
  },
  {
   "cell_type": "code",
   "execution_count": null,
   "metadata": {},
   "outputs": [],
   "source": [
    "# speciesrax\n",
    "ap.get_generax_data(treeFile, \"out_dir15/sprax_15\")"
   ]
  },
  {
   "cell_type": "markdown",
   "metadata": {},
   "source": [
    "Then once obtained the data generax can be run in the cluster like this:\n",
    "\n",
    "To load it\n",
    "\n",
    "`module purge\n",
    "module load gcc impi generax`\n",
    "\n",
    "\n",
    "`mpiexec -np cores generax --families family.txt --strategy SKIP --si-strategy HYBRID --species-tree [MiniNJ or another species tre like duptree] --rec-model UndatedDTL --per-family-rates --prune-species-tree --si-estimate-bl --si-quartet-support --prefix sprax`"
   ]
  }
 ],
 "metadata": {
  "kernelspec": {
   "display_name": "Python 3",
   "language": "python",
   "name": "python3"
  },
  "language_info": {
   "codemirror_mode": {
    "name": "ipython",
    "version": 3
   },
   "file_extension": ".py",
   "mimetype": "text/x-python",
   "name": "python",
   "nbconvert_exporter": "python",
   "pygments_lexer": "ipython3",
   "version": "3.8.10"
  }
 },
 "nbformat": 4,
 "nbformat_minor": 1
}
